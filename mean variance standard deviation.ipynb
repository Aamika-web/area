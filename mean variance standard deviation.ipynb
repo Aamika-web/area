{
 "cells": [
  {
   "cell_type": "code",
   "execution_count": 1,
   "metadata": {},
   "outputs": [],
   "source": [
    "import numpy as np"
   ]
  },
  {
   "cell_type": "code",
   "execution_count": 2,
   "metadata": {},
   "outputs": [],
   "source": [
    "def calculate(list):\n",
    "    if len(list)<9:\n",
    "        print(\"list must contain nine numbers\")\n",
    "    else:\n",
    "        a=np.reshape(list,(3,3))\n",
    "        b=(np.mean(a,axis=0),np.mean(a,axis=1),np.mean(a))\n",
    "        c=(np.var(a,axis=0),np.var(a,axis=1),np.var(a))\n",
    "        d=(np.std(a,axis=0),np.std(a,axis=1),np.std(a))\n",
    "        e=(np.max(a,axis=0),np.max(a,axis=1),np.max(a))\n",
    "        f=(np.min(a,axis=0),np.min(a,axis=1),np.min(a))\n",
    "        g=(np.sum(a,axis=0),np.sum(a,axis=1),np.sum(a))\n",
    "        calculations={  'mean': [b],'variance': [c],'standard deviation': [d],'max': [e],'min': [f],'sum': [g] }\n",
    "        return calculations"
   ]
  },
  {
   "cell_type": "code",
   "execution_count": null,
   "metadata": {},
   "outputs": [],
   "source": []
  },
  {
   "cell_type": "code",
   "execution_count": null,
   "metadata": {},
   "outputs": [],
   "source": []
  },
  {
   "cell_type": "code",
   "execution_count": null,
   "metadata": {},
   "outputs": [],
   "source": []
  }
 ],
 "metadata": {
  "kernelspec": {
   "display_name": "Python 3",
   "language": "python",
   "name": "python3"
  },
  "language_info": {
   "codemirror_mode": {
    "name": "ipython",
    "version": 3
   },
   "file_extension": ".py",
   "mimetype": "text/x-python",
   "name": "python",
   "nbconvert_exporter": "python",
   "pygments_lexer": "ipython3",
   "version": "3.8.3"
  }
 },
 "nbformat": 4,
 "nbformat_minor": 4
}
